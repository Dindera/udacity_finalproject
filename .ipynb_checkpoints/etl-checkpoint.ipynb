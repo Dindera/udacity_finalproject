{
 "cells": [
  {
   "cell_type": "code",
   "execution_count": 1,
   "metadata": {},
   "outputs": [],
   "source": [
    "import os\n",
    "import csv\n",
    "import requests\n",
    "import pandas as pd\n",
    "import numpy as np\n",
    "import configparser"
   ]
  },
  {
   "cell_type": "code",
   "execution_count": 2,
   "metadata": {},
   "outputs": [],
   "source": [
    "config = configparser.ConfigParser()\n",
    "config.read(\".env\")\n",
    "APIKEY = config[\"RAPIDAPI\"][\"KEY\"]"
   ]
  },
  {
   "cell_type": "markdown",
   "metadata": {},
   "source": [
    "## Outline of Data Extraction Process\n",
    "\n",
    " ---\n",
    " \n",
    " Using the RapidApi, the data will be collected in the following order.\n",
    " \n",
    " * The symbols of market movers will be gotten using the endpoint \"market/v2/get-movers\" \n",
    " * The market movers will be added as query to the endpoint \"stock/v3/get-historical-data\" to collect historical data of the tickers\n",
    " * The symbols of the market movers will also be used as query to get their summary which includes the financial earnings using the endpoint stock/v2/get-summary\n",
    " * Currency pairs selected for the project are used as query in the endpoint \"market/get-spark\" to collect data according to interval and range. \n",
    " * The collected data will initially be saved in pandas dataframe. \n",
    " "
   ]
  },
  {
   "cell_type": "markdown",
   "metadata": {},
   "source": [
    "#### Extract 10 stock losers, gainers and most-active stocks in GB region, get their symbols "
   ]
  },
  {
   "cell_type": "code",
   "execution_count": 3,
   "metadata": {},
   "outputs": [],
   "source": [
    "url = \"https://yh-finance.p.rapidapi.com/market/v2/get-movers\"\n",
    "\n",
    "querystring = {\"region\":\"GB\",\"lang\":\"en-GB\",\"count\":\"10\",\"start\":\"0\"}\n",
    "\n",
    "headers = {\n",
    "\t\"X-RapidAPI-Key\": APIKEY,\n",
    "\t\"X-RapidAPI-Host\": \"yh-finance.p.rapidapi.com\"\n",
    "}\n",
    "\n",
    "response = requests.request(\"GET\", url, headers=headers, params=querystring).json()"
   ]
  },
  {
   "cell_type": "code",
   "execution_count": 4,
   "metadata": {},
   "outputs": [],
   "source": [
    "# Get the gainers from quotes\n",
    "gainer_quotes = response[\"finance\"][\"result\"][0][\"quotes\"]\n",
    "gainers = []\n",
    "\n",
    "for quote in gainer_quotes:\n",
    "    gainers.append(quote[\"symbol\"]) "
   ]
  },
  {
   "cell_type": "code",
   "execution_count": 5,
   "metadata": {},
   "outputs": [],
   "source": [
    "# Get the losers\n",
    "losers_quotes = response[\"finance\"][\"result\"][1][\"quotes\"]\n",
    "losers = []\n",
    "\n",
    "for quote in losers_quotes:\n",
    "    losers.append(quote[\"symbol\"]) "
   ]
  },
  {
   "cell_type": "code",
   "execution_count": 6,
   "metadata": {},
   "outputs": [],
   "source": [
    "# Get the most actives\n",
    "mostactives_quotes = response[\"finance\"][\"result\"][2][\"quotes\"]\n",
    "mostactives = []\n",
    "\n",
    "for quote in mostactives_quotes:\n",
    "    mostactives.append(quote[\"symbol\"]) "
   ]
  },
  {
   "cell_type": "code",
   "execution_count": 14,
   "metadata": {},
   "outputs": [
    {
     "data": {
      "text/html": [
       "<div>\n",
       "<style scoped>\n",
       "    .dataframe tbody tr th:only-of-type {\n",
       "        vertical-align: middle;\n",
       "    }\n",
       "\n",
       "    .dataframe tbody tr th {\n",
       "        vertical-align: top;\n",
       "    }\n",
       "\n",
       "    .dataframe thead th {\n",
       "        text-align: right;\n",
       "    }\n",
       "</style>\n",
       "<table border=\"1\" class=\"dataframe\">\n",
       "  <thead>\n",
       "    <tr style=\"text-align: right;\">\n",
       "      <th></th>\n",
       "      <th>gainers</th>\n",
       "      <th>losers</th>\n",
       "      <th>mostactives</th>\n",
       "    </tr>\n",
       "  </thead>\n",
       "  <tbody>\n",
       "    <tr>\n",
       "      <th>0</th>\n",
       "      <td>0BDR.IL</td>\n",
       "      <td>0JI3.L</td>\n",
       "      <td>7DIG.L</td>\n",
       "    </tr>\n",
       "    <tr>\n",
       "      <th>1</th>\n",
       "      <td>0MC5.IL</td>\n",
       "      <td>0E2B.IL</td>\n",
       "      <td>ICON.L</td>\n",
       "    </tr>\n",
       "    <tr>\n",
       "      <th>2</th>\n",
       "      <td>0RCP.IL</td>\n",
       "      <td>0AAT.IL</td>\n",
       "      <td>KOD.L</td>\n",
       "    </tr>\n",
       "    <tr>\n",
       "      <th>3</th>\n",
       "      <td>TUIB.L</td>\n",
       "      <td>MH65.L</td>\n",
       "      <td>SYME.L</td>\n",
       "    </tr>\n",
       "    <tr>\n",
       "      <th>4</th>\n",
       "      <td>0RCS.IL</td>\n",
       "      <td>0AAS.IL</td>\n",
       "      <td>0VRF.L</td>\n",
       "    </tr>\n",
       "    <tr>\n",
       "      <th>5</th>\n",
       "      <td>0RCR.IL</td>\n",
       "      <td>0V6Y.L</td>\n",
       "      <td>0MRI.IL</td>\n",
       "    </tr>\n",
       "    <tr>\n",
       "      <th>6</th>\n",
       "      <td>0XC6.IL</td>\n",
       "      <td>0OI0.L</td>\n",
       "      <td>PREM.L</td>\n",
       "    </tr>\n",
       "    <tr>\n",
       "      <th>7</th>\n",
       "      <td>0E4B.IL</td>\n",
       "      <td>0A5O.IL</td>\n",
       "      <td>0RQY.L</td>\n",
       "    </tr>\n",
       "    <tr>\n",
       "      <th>8</th>\n",
       "      <td>0I21.L</td>\n",
       "      <td>0MN3.IL</td>\n",
       "      <td>BOIL.L</td>\n",
       "    </tr>\n",
       "    <tr>\n",
       "      <th>9</th>\n",
       "      <td>0DP0.IL</td>\n",
       "      <td>0XWG.IL</td>\n",
       "      <td>GST.L</td>\n",
       "    </tr>\n",
       "  </tbody>\n",
       "</table>\n",
       "</div>"
      ],
      "text/plain": [
       "   gainers   losers mostactives\n",
       "0  0BDR.IL   0JI3.L      7DIG.L\n",
       "1  0MC5.IL  0E2B.IL      ICON.L\n",
       "2  0RCP.IL  0AAT.IL       KOD.L\n",
       "3   TUIB.L   MH65.L      SYME.L\n",
       "4  0RCS.IL  0AAS.IL      0VRF.L\n",
       "5  0RCR.IL   0V6Y.L     0MRI.IL\n",
       "6  0XC6.IL   0OI0.L      PREM.L\n",
       "7  0E4B.IL  0A5O.IL      0RQY.L\n",
       "8   0I21.L  0MN3.IL      BOIL.L\n",
       "9  0DP0.IL  0XWG.IL       GST.L"
      ]
     },
     "execution_count": 14,
     "metadata": {},
     "output_type": "execute_result"
    }
   ],
   "source": [
    "# Combine all into one DF\n",
    "movers_df = pd.DataFrame(list(zip(gainers, losers, mostactives)), columns=['gainers', 'losers', 'mostactives'])\n",
    "\n",
    "movers_df"
   ]
  },
  {
   "cell_type": "code",
   "execution_count": 15,
   "metadata": {},
   "outputs": [],
   "source": [
    "# Save movers in csv\n",
    "movers_df.to_csv(\"data/movers.csv\", index=False)"
   ]
  },
  {
   "cell_type": "markdown",
   "metadata": {},
   "source": [
    "#### Extract historical data with the symbols "
   ]
  },
  {
   "cell_type": "code",
   "execution_count": 3,
   "metadata": {},
   "outputs": [],
   "source": [
    "#import movers csv\n",
    "movers_df = pd.read_csv(\"data/movers.csv\")"
   ]
  },
  {
   "cell_type": "code",
   "execution_count": 18,
   "metadata": {},
   "outputs": [],
   "source": [
    "def history_data(path, movers, key):\n",
    "    data = []\n",
    "    url = \"https://yh-finance.p.rapidapi.com/stock/v3/get-historical-data\"\n",
    "    for symbol in movers_df[movers]: \n",
    "        querystring = {\"symbol\": symbol,\"region\":\"GB\"}\n",
    "\n",
    "        headers = {\n",
    "            \"X-RapidAPI-Key\": key,\n",
    "            \"X-RapidAPI-Host\": \"yh-finance.p.rapidapi.com\"\n",
    "        }\n",
    "\n",
    "        response = requests.request(\"GET\", url, headers=headers, params=querystring).json()\n",
    "        \n",
    "        names = ['date', 'open', 'high', 'low', 'close', 'volume', 'adjclose', 'symbol', 'movers']\n",
    "        for stock in response[\"prices\"]:\n",
    "            if len(stock) == 7:\n",
    "                history_data = {'date': stock['date'], \n",
    "                                'open': stock['open'], \n",
    "                                'high': stock['high'], \n",
    "                                'low': stock['low'],\n",
    "                                'close': stock['close'], 'volume': stock['volume'], \n",
    "                                'adjclose': stock['adjclose'], 'symbol': symbol,\n",
    "                                'movers': movers}\n",
    "                \n",
    "                data.append(history_data)\n",
    "        with open(path, 'w') as csvfile:\n",
    "            writer = csv.DictWriter(csvfile, fieldnames=names)\n",
    "            writer.writeheader()\n",
    "            writer.writerows(data)"
   ]
  },
  {
   "cell_type": "code",
   "execution_count": 19,
   "metadata": {},
   "outputs": [],
   "source": [
    "# Collect historical data of each gainer stock\n",
    "gainers_history = history_data(\"data/gainers_history.csv\", \"gainers\", APIKEY)\n",
    "gainers_history"
   ]
  },
  {
   "cell_type": "code",
   "execution_count": 20,
   "metadata": {},
   "outputs": [],
   "source": [
    "# Collect historical data of each loser stock\n",
    "losers_history = history_data(\"data/losers_history.csv\", \"losers\", APIKEY)\n",
    "losers_history"
   ]
  },
  {
   "cell_type": "code",
   "execution_count": 21,
   "metadata": {},
   "outputs": [],
   "source": [
    "# Collect historical data of each mostactive stock\n",
    "actives_history = history_data(\"data/actives_history.csv\", \"mostactives\", APIKEY)\n",
    "actives_history"
   ]
  },
  {
   "cell_type": "code",
   "execution_count": null,
   "metadata": {},
   "outputs": [],
   "source": []
  },
  {
   "cell_type": "markdown",
   "metadata": {},
   "source": [
    "#### Extract Summary and Financial information of each stock"
   ]
  },
  {
   "cell_type": "code",
   "execution_count": 4,
   "metadata": {},
   "outputs": [],
   "source": [
    "url = \"https://yh-finance.p.rapidapi.com/stock/v2/get-summary\"\n",
    "\n",
    "querystring = {\"symbol\":\"AMRN\",\"region\":\"US\"}\n",
    "\n",
    "headers = {\n",
    "\t\"X-RapidAPI-Key\": APIKEY,\n",
    "\t\"X-RapidAPI-Host\": \"yh-finance.p.rapidapi.com\"\n",
    "}\n",
    "\n",
    "response = requests.request(\"GET\", url, headers=headers, params=querystring).json()"
   ]
  },
  {
   "cell_type": "code",
   "execution_count": null,
   "metadata": {},
   "outputs": [],
   "source": []
  },
  {
   "cell_type": "code",
   "execution_count": 9,
   "metadata": {},
   "outputs": [
    {
     "name": "stdout",
     "output_type": "stream",
     "text": [
      "{'zip': '112-114', 'sector': 'Healthcare', 'fullTimeEmployees': 365, 'longBusinessSummary': 'Amarin Corporation plc, a pharmaceutical company, engages in the development and commercialization of therapeutics for the treatment of cardiovascular diseases in the United States, European countries, Canada, Lebanon, and the United Arab Emirates. It offers VASCEPA, a prescription-only omega-3 fatty acid product, used as an adjunct to diet for reducing triglyceride levels in adult patients with severe hypertriglyceridemia. The company sells its products principally to wholesalers and specialty pharmacy providers. It has a collaboration with Mochida Pharmaceutical Co., Ltd. to develop and commercialize drug products and indications based on the active pharmaceutical ingredient in Vascepa. The company was formerly known as Ethical Holdings plc and changed its name to Amarin Corporation plc in 1999. Amarin Corporation plc was incorporated in 1989 and is headquartered in Dublin, Ireland.', 'city': 'Dublin', 'phone': '353 0 166 99020', 'country': 'Ireland', 'companyOfficers': [], 'website': 'https://www.amarincorp.com', 'maxAge': 86400, 'address1': 'Iconic Offices, The Greenway', 'industry': 'Drug Manufacturers—General', 'address2': 'Block C Ardilaun Court St Stephens Green'}\n"
     ]
    }
   ],
   "source": [
    "# ToDo\n",
    "\"\"\"\n",
    "  - Get the summaryProfile of stocks\n",
    "  - Get the yearly earnings and revenue of all stocks\n",
    "  - Get the dividend yield of all stock if any\n",
    "\"\"\"\n",
    "print(response[\"summaryProfile\"])"
   ]
  },
  {
   "cell_type": "code",
   "execution_count": 17,
   "metadata": {},
   "outputs": [
    {
     "name": "stdout",
     "output_type": "stream",
     "text": [
      "{'exchange': 'NGM', 'shortName': 'Amarin Corporation plc', 'longName': 'Amarin Corporation plc', 'exchangeTimezoneName': 'America/New_York', 'exchangeTimezoneShortName': 'EDT', 'isEsgPopulated': False, 'gmtOffSetMilliseconds': '-14400000', 'quoteType': 'EQUITY', 'symbol': 'AMRN', 'messageBoardId': 'finmb_407863', 'market': 'us_market'}\n"
     ]
    }
   ],
   "source": [
    "print(response[\"quoteType\"])"
   ]
  },
  {
   "cell_type": "code",
   "execution_count": 11,
   "metadata": {},
   "outputs": [
    {
     "name": "stdout",
     "output_type": "stream",
     "text": [
      "{'ebitdaMargins': {'raw': -0.19277, 'fmt': '-19.28%'}, 'profitMargins': {'raw': -0.28658, 'fmt': '-28.66%'}, 'grossMargins': {'raw': 0.70575994, 'fmt': '70.58%'}, 'operatingCashflow': {'raw': -180092000, 'fmt': '-180.09M', 'longFmt': '-180,092,000'}, 'revenueGrowth': {'raw': -0.375, 'fmt': '-37.50%'}, 'operatingMargins': {'raw': -0.20115, 'fmt': '-20.12%'}, 'ebitda': {'raw': -71169000, 'fmt': '-71.17M', 'longFmt': '-71,169,000'}, 'targetLowPrice': {'raw': 1.5, 'fmt': '1.50'}, 'recommendationKey': 'hold', 'grossProfits': {'raw': 260562000, 'fmt': '260.56M', 'longFmt': '260,562,000'}, 'freeCashflow': {'raw': -85622000, 'fmt': '-85.62M', 'longFmt': '-85,622,000'}, 'targetMedianPrice': {'raw': 2.5, 'fmt': '2.50'}, 'currentPrice': {'raw': 1.35, 'fmt': '1.35'}, 'earningsGrowth': {'raw': -0.942, 'fmt': '-94.20%'}, 'currentRatio': {'raw': 2.656, 'fmt': '2.66'}, 'returnOnAssets': {'raw': -0.0475, 'fmt': '-4.75%'}, 'numberOfAnalystOpinions': {'raw': 6, 'fmt': '6', 'longFmt': '6'}, 'targetMeanPrice': {'raw': 3.75, 'fmt': '3.75'}, 'debtToEquity': {'raw': 1.945, 'fmt': '1.95'}, 'returnOnEquity': {'raw': -0.16761999, 'fmt': '-16.76%'}, 'targetHighPrice': {'raw': 9, 'fmt': '9.00'}, 'totalCash': {'raw': 309360992, 'fmt': '309.36M', 'longFmt': '309,360,992'}, 'totalDebt': {'raw': 11581000, 'fmt': '11.58M', 'longFmt': '11,581,000'}, 'totalRevenue': {'raw': 369192992, 'fmt': '369.19M', 'longFmt': '369,192,992'}, 'totalCashPerShare': {'raw': 0.762, 'fmt': '0.76'}, 'financialCurrency': 'USD', 'maxAge': 86400, 'revenuePerShare': {'raw': 0.92, 'fmt': '0.92'}, 'quickRatio': {'raw': 1.697, 'fmt': '1.70'}, 'recommendationMean': {'raw': 2.7, 'fmt': '2.70'}}\n"
     ]
    }
   ],
   "source": [
    "print(response[\"financialData\"])"
   ]
  },
  {
   "cell_type": "code",
   "execution_count": 14,
   "metadata": {},
   "outputs": [
    {
     "name": "stdout",
     "output_type": "stream",
     "text": [
      "{'previousClose': {'raw': 1.41, 'fmt': '1.4100'}, 'regularMarketOpen': {'raw': 1.39, 'fmt': '1.3900'}, 'twoHundredDayAverage': {'raw': 1.4304, 'fmt': '1.4304'}, 'trailingAnnualDividendYield': {'raw': 0, 'fmt': '0.00%'}, 'payoutRatio': {'raw': 0, 'fmt': '0.00%'}, 'volume24Hr': {}, 'regularMarketDayHigh': {'raw': 1.4, 'fmt': '1.4000'}, 'navPrice': {}, 'averageDailyVolume10Day': {'raw': 2945240, 'fmt': '2.95M', 'longFmt': '2,945,240'}, 'totalAssets': {}, 'regularMarketPreviousClose': {'raw': 1.41, 'fmt': '1.4100'}, 'fiftyDayAverage': {'raw': 1.7018, 'fmt': '1.7018'}, 'trailingAnnualDividendRate': {'raw': 0, 'fmt': '0.00'}, 'open': {'raw': 1.39, 'fmt': '1.3900'}, 'toCurrency': None, 'averageVolume10days': {'raw': 2945240, 'fmt': '2.95M', 'longFmt': '2,945,240'}, 'expireDate': {}, 'yield': {}, 'algorithm': None, 'dividendRate': {}, 'exDividendDate': {}, 'beta': {'raw': 1.791349, 'fmt': '1.79'}, 'circulatingSupply': {}, 'startDate': {}, 'regularMarketDayLow': {'raw': 1.35, 'fmt': '1.3500'}, 'priceHint': {'raw': 4, 'fmt': '4', 'longFmt': '4'}, 'currency': 'USD', 'regularMarketVolume': {'raw': 1347218, 'fmt': '1.35M', 'longFmt': '1,347,218'}, 'lastMarket': None, 'maxSupply': {}, 'openInterest': {}, 'marketCap': {'raw': 548256640, 'fmt': '548.26M', 'longFmt': '548,256,640'}, 'volumeAllCurrencies': {}, 'strikePrice': {}, 'averageVolume': {'raw': 4293649, 'fmt': '4.29M', 'longFmt': '4,293,649'}, 'priceToSalesTrailing12Months': {'raw': 1.4850137, 'fmt': '1.49'}, 'dayLow': {'raw': 1.35, 'fmt': '1.3500'}, 'ask': {'raw': 0, 'fmt': '0.0000'}, 'ytdReturn': {}, 'askSize': {'raw': 4000, 'fmt': '4k', 'longFmt': '4,000'}, 'volume': {'raw': 1347218, 'fmt': '1.35M', 'longFmt': '1,347,218'}, 'fiftyTwoWeekHigh': {'raw': 3.25, 'fmt': '3.2500'}, 'forwardPE': {'raw': -13.5, 'fmt': '-13.50'}, 'maxAge': 1, 'fromCurrency': None, 'fiveYearAvgDividendYield': {}, 'fiftyTwoWeekLow': {'raw': 1.04, 'fmt': '1.0400'}, 'bid': {'raw': 0, 'fmt': '0.0000'}, 'tradeable': False, 'dividendYield': {}, 'bidSize': {'raw': 21500, 'fmt': '21.5k', 'longFmt': '21,500'}, 'dayHigh': {'raw': 1.4, 'fmt': '1.4000'}, 'coinMarketCapLink': None}\n"
     ]
    }
   ],
   "source": [
    "print(response[\"summaryDetail\"])"
   ]
  },
  {
   "cell_type": "code",
   "execution_count": 19,
   "metadata": {},
   "outputs": [
    {
     "ename": "AttributeError",
     "evalue": "'dict' object has no attribute 'raw'",
     "output_type": "error",
     "traceback": [
      "\u001b[1;31m---------------------------------------------------------------------------\u001b[0m",
      "\u001b[1;31mAttributeError\u001b[0m                            Traceback (most recent call last)",
      "\u001b[1;32m<ipython-input-19-d8b93aac34a0>\u001b[0m in \u001b[0;36m<module>\u001b[1;34m\u001b[0m\n\u001b[0;32m      8\u001b[0m    \u001b[1;34m\"quoteType\"\u001b[0m\u001b[1;33m:\u001b[0m \u001b[0mresponse\u001b[0m\u001b[1;33m[\u001b[0m\u001b[1;34m\"quoteType\"\u001b[0m\u001b[1;33m]\u001b[0m\u001b[1;33m[\u001b[0m\u001b[1;34m\"quoteType\"\u001b[0m\u001b[1;33m]\u001b[0m\u001b[1;33m,\u001b[0m\u001b[1;33m\u001b[0m\u001b[1;33m\u001b[0m\u001b[0m\n\u001b[0;32m      9\u001b[0m    \u001b[1;34m\"beta\"\u001b[0m\u001b[1;33m:\u001b[0m \u001b[0mresponse\u001b[0m\u001b[1;33m[\u001b[0m\u001b[1;34m\"summaryDetail\"\u001b[0m\u001b[1;33m]\u001b[0m\u001b[1;33m[\u001b[0m\u001b[1;34m\"beta\"\u001b[0m\u001b[1;33m]\u001b[0m\u001b[1;33m[\u001b[0m\u001b[1;34m\"raw\"\u001b[0m\u001b[1;33m]\u001b[0m\u001b[1;33m,\u001b[0m\u001b[1;33m\u001b[0m\u001b[1;33m\u001b[0m\u001b[0m\n\u001b[1;32m---> 10\u001b[1;33m    \u001b[1;34m\"dividendRate\"\u001b[0m\u001b[1;33m:\u001b[0m \u001b[0mresponse\u001b[0m\u001b[1;33m[\u001b[0m\u001b[1;34m\"summaryDetail\"\u001b[0m\u001b[1;33m]\u001b[0m\u001b[1;33m[\u001b[0m\u001b[1;34m\"dividendRate\"\u001b[0m\u001b[1;33m]\u001b[0m\u001b[1;33m.\u001b[0m\u001b[0mraw\u001b[0m\u001b[1;33m,\u001b[0m\u001b[1;33m\u001b[0m\u001b[1;33m\u001b[0m\u001b[0m\n\u001b[0m\u001b[0;32m     11\u001b[0m    \u001b[1;34m\"marketCap\"\u001b[0m\u001b[1;33m:\u001b[0m \u001b[0mresponse\u001b[0m\u001b[1;33m[\u001b[0m\u001b[1;34m\"summaryDetail\"\u001b[0m\u001b[1;33m]\u001b[0m\u001b[1;33m[\u001b[0m\u001b[1;34m\"marketCap\"\u001b[0m\u001b[1;33m]\u001b[0m\u001b[1;33m[\u001b[0m\u001b[1;34m\"raw\"\u001b[0m\u001b[1;33m]\u001b[0m\u001b[1;33m,\u001b[0m\u001b[1;33m\u001b[0m\u001b[1;33m\u001b[0m\u001b[0m\n\u001b[0;32m     12\u001b[0m    \u001b[1;34m\"dividendYield\"\u001b[0m\u001b[1;33m:\u001b[0m \u001b[0mresponse\u001b[0m\u001b[1;33m[\u001b[0m\u001b[1;34m\"summaryDetail\"\u001b[0m\u001b[1;33m]\u001b[0m\u001b[1;33m[\u001b[0m\u001b[1;34m\"dividendYield\"\u001b[0m\u001b[1;33m]\u001b[0m\u001b[1;33m[\u001b[0m\u001b[1;34m\"raw\"\u001b[0m\u001b[1;33m]\u001b[0m\u001b[1;33m,\u001b[0m\u001b[1;33m\u001b[0m\u001b[1;33m\u001b[0m\u001b[0m\n",
      "\u001b[1;31mAttributeError\u001b[0m: 'dict' object has no attribute 'raw'"
     ]
    }
   ],
   "source": [
    "# response[\"summaryProfile\"]\n",
    "# response[\"quoteType\"]\n",
    "# response[\"financialData\"]\n",
    "# response[\"summaryDetail\"]\n",
    "profile_earnings = {\n",
    "   \"symbol\": response[\"quoteType\"][\"symbol\"],\n",
    "   \"summary\": response[\"summaryProfile\"],\n",
    "   \"quoteType\": response[\"quoteType\"][\"quoteType\"],\n",
    "   \"beta\": response[\"summaryDetail\"][\"beta\"][\"raw\"],\n",
    "   \"dividendRate\": response[\"summaryDetail\"][\"dividendRate\"][\"raw\"],\n",
    "   \"marketCap\": response[\"summaryDetail\"][\"marketCap\"][\"raw\"],\n",
    "   \"dividendYield\": response[\"summaryDetail\"][\"dividendYield\"][\"raw\"],\n",
    "   \"exDividendDate\": response[\"summaryDetail\"][\"exDividendDate\"][\"raw\"],\n",
    "   \"dayHigh\": response[\"summaryDetail\"][\"dayHigh\"][\"raw\"],\n",
    "   \"dayLow\": response[\"summaryDetail\"][\"dayLow\"][\"raw\"],\n",
    "   \"ask\": response[\"summaryDetail\"][\"ask\"][\"raw\"],\n",
    "   \"previousClose\": response[\"summaryDetail\"][\"previousClose\"][\"raw\"],\n",
    "   \"marketOpen\": response[\"summaryDetail\"][\"open\"][\"raw\"],\n",
    "   \"bid\": response[\"summaryDetail\"][\"bid\"][\"raw\"],\n",
    "   \"askSize\": response[\"summaryDetail\"][\"askSize\"][\"raw\"],\n",
    "   \"bidSize\": response[\"summaryDetail\"][\"bidSize\"][\"raw\"],\n",
    "   \"volume\": response[\"summaryDetail\"][\"volume\"][\"raw\"],\n",
    "   \"fiftyTwoWeekHigh\": response[\"summaryDetail\"][\"fiftyTwoWeekHigh\"][\"raw\"],\n",
    "   \"fiftyTwoWeekLow\": response[\"summaryDetail\"][\"fiftyTwoWeekLow\"][\"raw\"],\n",
    "   \"earnings\": response[\"earnings\"][\"financialsChart\"][\"yearly\"]\n",
    "}\n",
    "\n",
    "print(profile_earnings)"
   ]
  },
  {
   "cell_type": "code",
   "execution_count": null,
   "metadata": {},
   "outputs": [],
   "source": []
  },
  {
   "cell_type": "code",
   "execution_count": null,
   "metadata": {},
   "outputs": [],
   "source": []
  },
  {
   "cell_type": "code",
   "execution_count": null,
   "metadata": {},
   "outputs": [],
   "source": []
  },
  {
   "cell_type": "code",
   "execution_count": null,
   "metadata": {},
   "outputs": [],
   "source": []
  },
  {
   "cell_type": "markdown",
   "metadata": {},
   "source": [
    "## Outline of Data Cleaning Process\n",
    "\n",
    "---\n",
    "\n",
    "  The collected data will here be cleaned and processed\n",
    "  \n",
    "  "
   ]
  },
  {
   "cell_type": "code",
   "execution_count": null,
   "metadata": {},
   "outputs": [],
   "source": []
  },
  {
   "cell_type": "code",
   "execution_count": null,
   "metadata": {},
   "outputs": [],
   "source": []
  },
  {
   "cell_type": "code",
   "execution_count": null,
   "metadata": {},
   "outputs": [],
   "source": []
  },
  {
   "cell_type": "code",
   "execution_count": null,
   "metadata": {},
   "outputs": [],
   "source": []
  },
  {
   "cell_type": "code",
   "execution_count": null,
   "metadata": {},
   "outputs": [],
   "source": []
  },
  {
   "cell_type": "markdown",
   "metadata": {},
   "source": [
    "## Data Wrangling and Transformation"
   ]
  },
  {
   "cell_type": "code",
   "execution_count": null,
   "metadata": {},
   "outputs": [],
   "source": []
  },
  {
   "cell_type": "code",
   "execution_count": null,
   "metadata": {},
   "outputs": [],
   "source": []
  },
  {
   "cell_type": "code",
   "execution_count": null,
   "metadata": {},
   "outputs": [],
   "source": []
  },
  {
   "cell_type": "markdown",
   "metadata": {},
   "source": [
    "## Data Storage and Loading"
   ]
  },
  {
   "cell_type": "code",
   "execution_count": null,
   "metadata": {},
   "outputs": [],
   "source": []
  },
  {
   "cell_type": "code",
   "execution_count": null,
   "metadata": {},
   "outputs": [],
   "source": []
  },
  {
   "cell_type": "code",
   "execution_count": null,
   "metadata": {},
   "outputs": [],
   "source": []
  },
  {
   "cell_type": "code",
   "execution_count": null,
   "metadata": {},
   "outputs": [],
   "source": []
  }
 ],
 "metadata": {
  "kernelspec": {
   "display_name": "Python 3",
   "language": "python",
   "name": "python3"
  },
  "language_info": {
   "codemirror_mode": {
    "name": "ipython",
    "version": 3
   },
   "file_extension": ".py",
   "mimetype": "text/x-python",
   "name": "python",
   "nbconvert_exporter": "python",
   "pygments_lexer": "ipython3",
   "version": "3.6.10"
  }
 },
 "nbformat": 4,
 "nbformat_minor": 2
}
