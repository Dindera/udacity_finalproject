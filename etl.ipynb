{
 "cells": [
  {
   "cell_type": "code",
   "execution_count": 40,
   "metadata": {},
   "outputs": [],
   "source": [
    "import os\n",
    "import csv\n",
    "import requests\n",
    "import pandas as pd\n",
    "import numpy as np\n",
    "import configparser"
   ]
  },
  {
   "cell_type": "code",
   "execution_count": 97,
   "metadata": {},
   "outputs": [],
   "source": [
    "config = configparser.ConfigParser()\n",
    "config.read(\".env\")\n",
    "APIKEY = config[\"RAPIDAPI\"][\"KEY\"]"
   ]
  },
  {
   "cell_type": "markdown",
   "metadata": {},
   "source": [
    "## Outline of Data Extraction Process\n",
    "\n",
    " ---\n",
    " \n",
    " Using the RapidApi, the data will be collected in the following order.\n",
    " \n",
    " * The symbols of market movers will be gotten using the endpoint \"market/v2/get-movers\" \n",
    " * The market movers will be added as query to the endpoint \"stock/v3/get-historical-data\" to collect historical data of the tickers\n",
    " * The symbols of the market movers will also be used as query to get their summary which includes the financial earnings using the endpoint stock/v2/get-summary\n",
    " * Currency pairs selected for the project are used as query in the endpoint \"market/get-spark\" to collect data according to interval and range. \n",
    " * The collected data will initially be saved in pandas dataframe. \n",
    " "
   ]
  },
  {
   "cell_type": "markdown",
   "metadata": {},
   "source": [
    "#### Extract 10 stock losers, gainers and most-active stocks in GB region, get their symbols "
   ]
  },
  {
   "cell_type": "code",
   "execution_count": 76,
   "metadata": {},
   "outputs": [],
   "source": [
    "url = \"https://yh-finance.p.rapidapi.com/market/v2/get-movers\"\n",
    "\n",
    "querystring = {\"region\":\"GB\",\"lang\":\"en-GB\",\"count\":\"10\",\"start\":\"0\"}\n",
    "\n",
    "headers = {\n",
    "\t\"X-RapidAPI-Key\": APIKEY,\n",
    "\t\"X-RapidAPI-Host\": \"yh-finance.p.rapidapi.com\"\n",
    "}\n",
    "\n",
    "response = requests.request(\"GET\", url, headers=headers, params=querystring).json()"
   ]
  },
  {
   "cell_type": "code",
   "execution_count": 77,
   "metadata": {},
   "outputs": [],
   "source": [
    "# Get the gainers from quotes\n",
    "gainer_quotes = response[\"finance\"][\"result\"][0][\"quotes\"]\n",
    "gainers = []\n",
    "\n",
    "for quote in gainer_quotes:\n",
    "    gainers.append(quote[\"symbol\"]) "
   ]
  },
  {
   "cell_type": "code",
   "execution_count": 78,
   "metadata": {},
   "outputs": [],
   "source": [
    "# Get the losers\n",
    "losers_quotes = response[\"finance\"][\"result\"][1][\"quotes\"]\n",
    "losers = []\n",
    "\n",
    "for quote in losers_quotes:\n",
    "    losers.append(quote[\"symbol\"]) "
   ]
  },
  {
   "cell_type": "code",
   "execution_count": 79,
   "metadata": {},
   "outputs": [],
   "source": [
    "# Get the most actives\n",
    "mostactives_quotes = response[\"finance\"][\"result\"][2][\"quotes\"]\n",
    "mostactives = []\n",
    "\n",
    "for quote in mostactives_quotes:\n",
    "    mostactives.append(quote[\"symbol\"]) "
   ]
  },
  {
   "cell_type": "code",
   "execution_count": 80,
   "metadata": {},
   "outputs": [
    {
     "data": {
      "text/html": [
       "<div>\n",
       "<style scoped>\n",
       "    .dataframe tbody tr th:only-of-type {\n",
       "        vertical-align: middle;\n",
       "    }\n",
       "\n",
       "    .dataframe tbody tr th {\n",
       "        vertical-align: top;\n",
       "    }\n",
       "\n",
       "    .dataframe thead th {\n",
       "        text-align: right;\n",
       "    }\n",
       "</style>\n",
       "<table border=\"1\" class=\"dataframe\">\n",
       "  <thead>\n",
       "    <tr style=\"text-align: right;\">\n",
       "      <th></th>\n",
       "      <th>gainers</th>\n",
       "      <th>losers</th>\n",
       "      <th>mostactives</th>\n",
       "    </tr>\n",
       "  </thead>\n",
       "  <tbody>\n",
       "    <tr>\n",
       "      <th>0</th>\n",
       "      <td>0VC5.L</td>\n",
       "      <td>GCG.L</td>\n",
       "      <td>3ROK.L</td>\n",
       "    </tr>\n",
       "    <tr>\n",
       "      <th>1</th>\n",
       "      <td>3LAA.L</td>\n",
       "      <td>MH65.L</td>\n",
       "      <td>7DIG.L</td>\n",
       "    </tr>\n",
       "    <tr>\n",
       "      <th>2</th>\n",
       "      <td>FUL.L</td>\n",
       "      <td>0V6Y.L</td>\n",
       "      <td>KOD.L</td>\n",
       "    </tr>\n",
       "    <tr>\n",
       "      <th>3</th>\n",
       "      <td>KDR.L</td>\n",
       "      <td>0OI0.L</td>\n",
       "      <td>0VRF.L</td>\n",
       "    </tr>\n",
       "    <tr>\n",
       "      <th>4</th>\n",
       "      <td>GST.L</td>\n",
       "      <td>0O0J.IL</td>\n",
       "      <td>ICON.L</td>\n",
       "    </tr>\n",
       "    <tr>\n",
       "      <th>5</th>\n",
       "      <td>FUL.AQ</td>\n",
       "      <td>0MDB.L</td>\n",
       "      <td>0RQY.L</td>\n",
       "    </tr>\n",
       "    <tr>\n",
       "      <th>6</th>\n",
       "      <td>0HFT.L</td>\n",
       "      <td>3SMI.L</td>\n",
       "      <td>PREM.L</td>\n",
       "    </tr>\n",
       "    <tr>\n",
       "      <th>7</th>\n",
       "      <td>GUN.AQ</td>\n",
       "      <td>TUIB.L</td>\n",
       "      <td>GST.L</td>\n",
       "    </tr>\n",
       "    <tr>\n",
       "      <th>8</th>\n",
       "      <td>NTBR.L</td>\n",
       "      <td>FIRE.AQ</td>\n",
       "      <td>TYM.L</td>\n",
       "    </tr>\n",
       "    <tr>\n",
       "      <th>9</th>\n",
       "      <td>B90.L</td>\n",
       "      <td>VKCO.IL</td>\n",
       "      <td>BOIL.L</td>\n",
       "    </tr>\n",
       "  </tbody>\n",
       "</table>\n",
       "</div>"
      ],
      "text/plain": [
       "  gainers   losers mostactives\n",
       "0  0VC5.L    GCG.L      3ROK.L\n",
       "1  3LAA.L   MH65.L      7DIG.L\n",
       "2   FUL.L   0V6Y.L       KOD.L\n",
       "3   KDR.L   0OI0.L      0VRF.L\n",
       "4   GST.L  0O0J.IL      ICON.L\n",
       "5  FUL.AQ   0MDB.L      0RQY.L\n",
       "6  0HFT.L   3SMI.L      PREM.L\n",
       "7  GUN.AQ   TUIB.L       GST.L\n",
       "8  NTBR.L  FIRE.AQ       TYM.L\n",
       "9   B90.L  VKCO.IL      BOIL.L"
      ]
     },
     "execution_count": 80,
     "metadata": {},
     "output_type": "execute_result"
    }
   ],
   "source": [
    "# Combine all into one DF\n",
    "movers_df = pd.DataFrame(list(zip(gainers, losers, mostactives)), columns=['gainers', 'losers', 'mostactives'])\n",
    "\n",
    "movers_df"
   ]
  },
  {
   "cell_type": "markdown",
   "metadata": {},
   "source": [
    "#### Extract historical data with the symbols "
   ]
  },
  {
   "cell_type": "code",
   "execution_count": 93,
   "metadata": {},
   "outputs": [],
   "source": [
    "def history_data(path, movers, key):\n",
    "    data = []\n",
    "    url = \"https://yh-finance.p.rapidapi.com/stock/v3/get-historical-data\"\n",
    "    for symbol in movers_df[movers]: \n",
    "        querystring = {\"symbol\": symbol,\"region\":\"GB\"}\n",
    "\n",
    "        headers = {\n",
    "            \"X-RapidAPI-Key\": key,\n",
    "            \"X-RapidAPI-Host\": \"yh-finance.p.rapidapi.com\"\n",
    "        }\n",
    "\n",
    "        response = requests.request(\"GET\", url, headers=headers, params=querystring).json()\n",
    "        names = ['date', 'open', 'high', 'low', 'close', 'volume', 'adjclose', 'symbol', 'movers']\n",
    "        for stock in response[\"prices\"]:\n",
    "            if stock['open']:\n",
    "                history_data = {'date': stock['date'], \n",
    "                                    'open': stock['open'], \n",
    "                                   'high': stock['high'], \n",
    "                                   'low': stock['low'],\n",
    "                                   'close': stock['close'], 'volume': stock['volume'], \n",
    "                                   'adjclose': stock['adjclose'], 'symbol': symbol,\n",
    "                                   'movers': movers}\n",
    "                data.append(history_data)\n",
    "\n",
    "    with open(path, 'w') as csvfile:\n",
    "        writer = csv.DictWriter(csvfile, fieldnames=names)\n",
    "        writer.writeheader()\n",
    "        writer.writerows(data)"
   ]
  },
  {
   "cell_type": "code",
   "execution_count": 94,
   "metadata": {},
   "outputs": [],
   "source": [
    "# Collect historical data of each gainer stock\n",
    "gainers_history = history_data(\"data/gainers_history.csv\", \"gainers\", APIKEY)\n",
    "gainers_history"
   ]
  },
  {
   "cell_type": "code",
   "execution_count": 95,
   "metadata": {},
   "outputs": [],
   "source": [
    "# Collect historical data of each loser stock\n",
    "losers_history = history_data(\"data/losers_history.csv\", \"losers\", APIKEY)\n",
    "losers_history"
   ]
  },
  {
   "cell_type": "code",
   "execution_count": 96,
   "metadata": {},
   "outputs": [],
   "source": [
    "# Collect historical data of each mostactive stock\n",
    "actives_history = history_data(\"data/actives_history.csv\", \"mostactives\", APIKEY)\n",
    "actives_history"
   ]
  },
  {
   "cell_type": "code",
   "execution_count": null,
   "metadata": {},
   "outputs": [],
   "source": []
  },
  {
   "cell_type": "markdown",
   "metadata": {},
   "source": [
    "#### Extract Summary and Financial information of each stock"
   ]
  },
  {
   "cell_type": "code",
   "execution_count": 99,
   "metadata": {},
   "outputs": [],
   "source": [
    "url = \"https://yh-finance.p.rapidapi.com/stock/v2/get-summary\"\n",
    "\n",
    "querystring = {\"symbol\":\"AMRN\",\"region\":\"US\"}\n",
    "\n",
    "headers = {\n",
    "\t\"X-RapidAPI-Key\": APIKEY,\n",
    "\t\"X-RapidAPI-Host\": \"yh-finance.p.rapidapi.com\"\n",
    "}\n",
    "\n",
    "response = requests.request(\"GET\", url, headers=headers, params=querystring).json()"
   ]
  },
  {
   "cell_type": "code",
   "execution_count": null,
   "metadata": {},
   "outputs": [],
   "source": [
    "# ToDo\n",
    "\"\"\"\n",
    "  - Get the summaryProfile of stocks\n",
    "  - Get the yearly earnings and revenue of all stocks\n",
    "  - Get the dividend of all stock if any\n",
    "\"\"\""
   ]
  },
  {
   "cell_type": "code",
   "execution_count": null,
   "metadata": {},
   "outputs": [],
   "source": []
  },
  {
   "cell_type": "code",
   "execution_count": null,
   "metadata": {},
   "outputs": [],
   "source": []
  },
  {
   "cell_type": "code",
   "execution_count": null,
   "metadata": {},
   "outputs": [],
   "source": []
  },
  {
   "cell_type": "markdown",
   "metadata": {},
   "source": [
    "## Outline of Data Cleaning Process\n",
    "\n",
    "---\n",
    "\n",
    "  The collected data will here be cleaned and processed\n",
    "  \n",
    "  "
   ]
  },
  {
   "cell_type": "code",
   "execution_count": null,
   "metadata": {},
   "outputs": [],
   "source": []
  },
  {
   "cell_type": "code",
   "execution_count": null,
   "metadata": {},
   "outputs": [],
   "source": []
  },
  {
   "cell_type": "code",
   "execution_count": null,
   "metadata": {},
   "outputs": [],
   "source": []
  },
  {
   "cell_type": "code",
   "execution_count": null,
   "metadata": {},
   "outputs": [],
   "source": []
  },
  {
   "cell_type": "code",
   "execution_count": null,
   "metadata": {},
   "outputs": [],
   "source": []
  },
  {
   "cell_type": "markdown",
   "metadata": {},
   "source": [
    "## Data Wrangling and Transformation"
   ]
  },
  {
   "cell_type": "code",
   "execution_count": null,
   "metadata": {},
   "outputs": [],
   "source": []
  },
  {
   "cell_type": "code",
   "execution_count": null,
   "metadata": {},
   "outputs": [],
   "source": []
  },
  {
   "cell_type": "code",
   "execution_count": null,
   "metadata": {},
   "outputs": [],
   "source": []
  },
  {
   "cell_type": "markdown",
   "metadata": {},
   "source": [
    "## Data Storage and Loading"
   ]
  },
  {
   "cell_type": "code",
   "execution_count": null,
   "metadata": {},
   "outputs": [],
   "source": []
  },
  {
   "cell_type": "code",
   "execution_count": null,
   "metadata": {},
   "outputs": [],
   "source": []
  },
  {
   "cell_type": "code",
   "execution_count": null,
   "metadata": {},
   "outputs": [],
   "source": []
  },
  {
   "cell_type": "code",
   "execution_count": null,
   "metadata": {},
   "outputs": [],
   "source": []
  }
 ],
 "metadata": {
  "kernelspec": {
   "display_name": "Python 3",
   "language": "python",
   "name": "python3"
  },
  "language_info": {
   "codemirror_mode": {
    "name": "ipython",
    "version": 3
   },
   "file_extension": ".py",
   "mimetype": "text/x-python",
   "name": "python",
   "nbconvert_exporter": "python",
   "pygments_lexer": "ipython3",
   "version": "3.6.10"
  }
 },
 "nbformat": 4,
 "nbformat_minor": 2
}
