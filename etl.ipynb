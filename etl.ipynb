{
 "cells": [
  {
   "cell_type": "code",
   "execution_count": 171,
   "metadata": {},
   "outputs": [],
   "source": [
    "import os\n",
    "import csv\n",
    "import json\n",
    "import requests\n",
    "import pandas as pd\n",
    "import numpy as np\n",
    "import configparser"
   ]
  },
  {
   "cell_type": "code",
   "execution_count": 2,
   "metadata": {},
   "outputs": [],
   "source": [
    "config = configparser.ConfigParser()\n",
    "config.read(\".env\")\n",
    "APIKEY = config[\"RAPIDAPI\"][\"KEY\"]"
   ]
  },
  {
   "cell_type": "markdown",
   "metadata": {},
   "source": [
    "## Outline of Data Extraction Process\n",
    "\n",
    " ---\n",
    " \n",
    " Using the RapidApi, the data will be collected in the following order.\n",
    " \n",
    " * The symbols of market movers will be gotten using the endpoint \"market/v2/get-movers\" \n",
    " * The market movers will be added as query to the endpoint \"stock/v3/get-historical-data\" to collect historical data of the tickers\n",
    " * The symbols of the market movers will also be used as query to get their summary which includes the financial earnings using the endpoint stock/v2/get-summary\n",
    " * Currency pairs selected for the project are used as query in the endpoint \"market/get-spark\" to collect data according to interval and range. \n",
    " * The collected data will initially be saved in pandas dataframe. \n",
    " "
   ]
  },
  {
   "cell_type": "markdown",
   "metadata": {},
   "source": [
    "#### Extract 10 stock losers, gainers and most-active stocks in GB region, get their symbols "
   ]
  },
  {
   "cell_type": "code",
   "execution_count": 3,
   "metadata": {},
   "outputs": [],
   "source": [
    "url = \"https://yh-finance.p.rapidapi.com/market/v2/get-movers\"\n",
    "\n",
    "querystring = {\"region\":\"GB\",\"lang\":\"en-GB\",\"count\":\"10\",\"start\":\"0\"}\n",
    "\n",
    "headers = {\n",
    "\t\"X-RapidAPI-Key\": APIKEY,\n",
    "\t\"X-RapidAPI-Host\": \"yh-finance.p.rapidapi.com\"\n",
    "}\n",
    "\n",
    "response = requests.request(\"GET\", url, headers=headers, params=querystring).json()"
   ]
  },
  {
   "cell_type": "code",
   "execution_count": 4,
   "metadata": {},
   "outputs": [],
   "source": [
    "# Get the gainers from quotes\n",
    "gainer_quotes = response[\"finance\"][\"result\"][0][\"quotes\"]\n",
    "gainers = []\n",
    "\n",
    "for quote in gainer_quotes:\n",
    "    gainers.append(quote[\"symbol\"]) "
   ]
  },
  {
   "cell_type": "code",
   "execution_count": 5,
   "metadata": {},
   "outputs": [],
   "source": [
    "# Get the losers\n",
    "losers_quotes = response[\"finance\"][\"result\"][1][\"quotes\"]\n",
    "losers = []\n",
    "\n",
    "for quote in losers_quotes:\n",
    "    losers.append(quote[\"symbol\"]) "
   ]
  },
  {
   "cell_type": "code",
   "execution_count": 6,
   "metadata": {},
   "outputs": [],
   "source": [
    "# Get the most actives\n",
    "mostactives_quotes = response[\"finance\"][\"result\"][2][\"quotes\"]\n",
    "mostactives = []\n",
    "\n",
    "for quote in mostactives_quotes:\n",
    "    mostactives.append(quote[\"symbol\"]) "
   ]
  },
  {
   "cell_type": "code",
   "execution_count": 14,
   "metadata": {},
   "outputs": [
    {
     "data": {
      "text/html": [
       "<div>\n",
       "<style scoped>\n",
       "    .dataframe tbody tr th:only-of-type {\n",
       "        vertical-align: middle;\n",
       "    }\n",
       "\n",
       "    .dataframe tbody tr th {\n",
       "        vertical-align: top;\n",
       "    }\n",
       "\n",
       "    .dataframe thead th {\n",
       "        text-align: right;\n",
       "    }\n",
       "</style>\n",
       "<table border=\"1\" class=\"dataframe\">\n",
       "  <thead>\n",
       "    <tr style=\"text-align: right;\">\n",
       "      <th></th>\n",
       "      <th>gainers</th>\n",
       "      <th>losers</th>\n",
       "      <th>mostactives</th>\n",
       "    </tr>\n",
       "  </thead>\n",
       "  <tbody>\n",
       "    <tr>\n",
       "      <th>0</th>\n",
       "      <td>0BDR.IL</td>\n",
       "      <td>0JI3.L</td>\n",
       "      <td>7DIG.L</td>\n",
       "    </tr>\n",
       "    <tr>\n",
       "      <th>1</th>\n",
       "      <td>0MC5.IL</td>\n",
       "      <td>0E2B.IL</td>\n",
       "      <td>ICON.L</td>\n",
       "    </tr>\n",
       "    <tr>\n",
       "      <th>2</th>\n",
       "      <td>0RCP.IL</td>\n",
       "      <td>0AAT.IL</td>\n",
       "      <td>KOD.L</td>\n",
       "    </tr>\n",
       "    <tr>\n",
       "      <th>3</th>\n",
       "      <td>TUIB.L</td>\n",
       "      <td>MH65.L</td>\n",
       "      <td>SYME.L</td>\n",
       "    </tr>\n",
       "    <tr>\n",
       "      <th>4</th>\n",
       "      <td>0RCS.IL</td>\n",
       "      <td>0AAS.IL</td>\n",
       "      <td>0VRF.L</td>\n",
       "    </tr>\n",
       "    <tr>\n",
       "      <th>5</th>\n",
       "      <td>0RCR.IL</td>\n",
       "      <td>0V6Y.L</td>\n",
       "      <td>0MRI.IL</td>\n",
       "    </tr>\n",
       "    <tr>\n",
       "      <th>6</th>\n",
       "      <td>0XC6.IL</td>\n",
       "      <td>0OI0.L</td>\n",
       "      <td>PREM.L</td>\n",
       "    </tr>\n",
       "    <tr>\n",
       "      <th>7</th>\n",
       "      <td>0E4B.IL</td>\n",
       "      <td>0A5O.IL</td>\n",
       "      <td>0RQY.L</td>\n",
       "    </tr>\n",
       "    <tr>\n",
       "      <th>8</th>\n",
       "      <td>0I21.L</td>\n",
       "      <td>0MN3.IL</td>\n",
       "      <td>BOIL.L</td>\n",
       "    </tr>\n",
       "    <tr>\n",
       "      <th>9</th>\n",
       "      <td>0DP0.IL</td>\n",
       "      <td>0XWG.IL</td>\n",
       "      <td>GST.L</td>\n",
       "    </tr>\n",
       "  </tbody>\n",
       "</table>\n",
       "</div>"
      ],
      "text/plain": [
       "   gainers   losers mostactives\n",
       "0  0BDR.IL   0JI3.L      7DIG.L\n",
       "1  0MC5.IL  0E2B.IL      ICON.L\n",
       "2  0RCP.IL  0AAT.IL       KOD.L\n",
       "3   TUIB.L   MH65.L      SYME.L\n",
       "4  0RCS.IL  0AAS.IL      0VRF.L\n",
       "5  0RCR.IL   0V6Y.L     0MRI.IL\n",
       "6  0XC6.IL   0OI0.L      PREM.L\n",
       "7  0E4B.IL  0A5O.IL      0RQY.L\n",
       "8   0I21.L  0MN3.IL      BOIL.L\n",
       "9  0DP0.IL  0XWG.IL       GST.L"
      ]
     },
     "execution_count": 14,
     "metadata": {},
     "output_type": "execute_result"
    }
   ],
   "source": [
    "# Combine all into one DF\n",
    "movers_df = pd.DataFrame(list(zip(gainers, losers, mostactives)), columns=['gainers', 'losers', 'mostactives'])\n",
    "\n",
    "movers_df"
   ]
  },
  {
   "cell_type": "code",
   "execution_count": 15,
   "metadata": {},
   "outputs": [],
   "source": [
    "# Save movers in csv\n",
    "movers_df.to_csv(\"data/movers.csv\", index=False)"
   ]
  },
  {
   "cell_type": "markdown",
   "metadata": {},
   "source": [
    "#### Extract historical data with the symbols "
   ]
  },
  {
   "cell_type": "code",
   "execution_count": 3,
   "metadata": {},
   "outputs": [],
   "source": [
    "#import movers csv\n",
    "movers_df = pd.read_csv(\"data/movers.csv\")"
   ]
  },
  {
   "cell_type": "code",
   "execution_count": 18,
   "metadata": {},
   "outputs": [],
   "source": [
    "def history_data(path, movers, key):\n",
    "    data = []\n",
    "    url = \"https://yh-finance.p.rapidapi.com/stock/v3/get-historical-data\"\n",
    "    for symbol in movers_df[movers]: \n",
    "        querystring = {\"symbol\": symbol,\"region\":\"GB\"}\n",
    "\n",
    "        headers = {\n",
    "            \"X-RapidAPI-Key\": key,\n",
    "            \"X-RapidAPI-Host\": \"yh-finance.p.rapidapi.com\"\n",
    "        }\n",
    "\n",
    "        response = requests.request(\"GET\", url, headers=headers, params=querystring).json()\n",
    "        \n",
    "        names = ['date', 'open', 'high', 'low', 'close', 'volume', 'adjclose', 'symbol', 'movers']\n",
    "        for stock in response[\"prices\"]:\n",
    "            if len(stock) == 7:\n",
    "                history_data = {'date': stock['date'], \n",
    "                                'open': stock['open'], \n",
    "                                'high': stock['high'], \n",
    "                                'low': stock['low'],\n",
    "                                'close': stock['close'], 'volume': stock['volume'], \n",
    "                                'adjclose': stock['adjclose'], 'symbol': symbol,\n",
    "                                'movers': movers}\n",
    "                \n",
    "                data.append(history_data)\n",
    "        with open(path, 'w') as csvfile:\n",
    "            writer = csv.DictWriter(csvfile, fieldnames=names)\n",
    "            writer.writeheader()\n",
    "            writer.writerows(data)"
   ]
  },
  {
   "cell_type": "code",
   "execution_count": 19,
   "metadata": {},
   "outputs": [],
   "source": [
    "# Collect historical data of each gainer stock\n",
    "gainers_history = history_data(\"data/gainers_history.csv\", \"gainers\", APIKEY)\n",
    "gainers_history"
   ]
  },
  {
   "cell_type": "code",
   "execution_count": 20,
   "metadata": {},
   "outputs": [],
   "source": [
    "# Collect historical data of each loser stock\n",
    "losers_history = history_data(\"data/losers_history.csv\", \"losers\", APIKEY)\n",
    "losers_history"
   ]
  },
  {
   "cell_type": "code",
   "execution_count": 21,
   "metadata": {},
   "outputs": [],
   "source": [
    "# Collect historical data of each mostactive stock\n",
    "actives_history = history_data(\"data/actives_history.csv\", \"mostactives\", APIKEY)\n",
    "actives_history"
   ]
  },
  {
   "cell_type": "code",
   "execution_count": null,
   "metadata": {},
   "outputs": [],
   "source": []
  },
  {
   "cell_type": "markdown",
   "metadata": {},
   "source": [
    "#### Extract Summary and Financial information of each stock"
   ]
  },
  {
   "cell_type": "code",
   "execution_count": 145,
   "metadata": {},
   "outputs": [],
   "source": [
    "def quote_summary_earnings(path, movers):\n",
    "    \"\"\"\n",
    "  - Get the summaryProfile of stocks\n",
    "  - Get the yearly earnings and revenue of all stocks\n",
    "  - Get the dividend yield and rate of all stock if any\n",
    "    \n",
    "    \"\"\"\n",
    "    data = []\n",
    "    cols = [\"symbol\", \"summary\", \"quoteType\", \"beta\", \"dividendRate\", \"marketCap\",\"dividendYield\",\"exDividendDate\",\"dayHigh\",\n",
    "           \"dayLow\",\"ask\", \"previousClose\", \"marketOpen\", \"bid\", \"askSize\", \"bidSize\", \"volume\", \"fiftyTwoWeekHigh\", \"fiftyTwoWeekLow\",\n",
    "           \"earnings\"]\n",
    "    for symbol in movers_df[movers]: \n",
    "        url = \"https://yh-finance.p.rapidapi.com/stock/v2/get-summary\"\n",
    "\n",
    "        querystring = {\"symbol\":symbol,\"region\":\"US\"}\n",
    "\n",
    "        headers = {\n",
    "            \"X-RapidAPI-Key\": APIKEY,\n",
    "            \"X-RapidAPI-Host\": \"yh-finance.p.rapidapi.com\"\n",
    "        }\n",
    "\n",
    "        response = requests.request(\"GET\", url, headers=headers, params=querystring).json()\n",
    "        summaryDetail = response.get(\"summaryDetail\", {})\n",
    "        try:\n",
    "            profile_earnings = {\n",
    "               \"symbol\": symbol,\n",
    "               \"summary\": response.get(\"summaryProfile\", {}),\n",
    "               \"quoteType\": response.get(\"quoteType\", {}).get(\"quoteType\", \"\"),\n",
    "               \"beta\": summaryDetail.get(\"beta\", {}).get(\"raw\", 0),\n",
    "               \"dividendRate\": summaryDetail.get(\"dividendRate\",{}).get(\"raw\", 0),\n",
    "               \"marketCap\": summaryDetail.get(\"marketCap\", {}).get(\"raw\", 0),\n",
    "               \"dividendYield\": summaryDetail.get(\"dividendYield\", {}).get(\"raw\", 0),\n",
    "               \"exDividendDate\": summaryDetail.get(\"exDividendDate\", {}).get(\"raw\", 0),\n",
    "               \"dayHigh\": summaryDetail.get(\"dayHigh\", {}).get(\"raw\", 0),\n",
    "               \"dayLow\": summaryDetail.get(\"dayLow\", {}).get(\"raw\", 0),\n",
    "               \"ask\": summaryDetail.get(\"ask\", {}).get(\"raw\", 0),\n",
    "               \"previousClose\": summaryDetail.get(\"previousClose\", {}).get(\"raw\", 0),\n",
    "               \"marketOpen\": summaryDetail.get(\"open\", {}).get(\"raw\", 0),\n",
    "               \"bid\": summaryDetail.get(\"bid\", {}).get(\"raw\", 0),\n",
    "               \"askSize\": summaryDetail.get(\"askSize\", {}).get(\"raw\", 0),\n",
    "               \"bidSize\": summaryDetail.get(\"bidSize\", {}).get(\"raw\", 0),\n",
    "               \"volume\": summaryDetail.get(\"volume\", {}).get(\"raw\", 0),\n",
    "               \"fiftyTwoWeekHigh\": summaryDetail.get(\"fiftyTwoWeekHigh\", {}).get(\"raw\", 0),\n",
    "               \"fiftyTwoWeekLow\": summaryDetail.get(\"fiftyTwoWeekLow\", {}).get(\"raw\", 0),\n",
    "               \"earnings\": response.get(\"earnings\", {}).get(\"financialsChart\", {}).get(\"yearly\", {})\n",
    "            }\n",
    "            data.append(profile_earnings) \n",
    "        except Exception as E:\n",
    "            print(f'There is an error {E} in the data')\n",
    "            \n",
    "        with open(path, 'w') as csvfile:\n",
    "            writer = csv.DictWriter(csvfile, fieldnames=cols)\n",
    "            writer.writeheader()\n",
    "            writer.writerows(data)"
   ]
  },
  {
   "cell_type": "code",
   "execution_count": 140,
   "metadata": {},
   "outputs": [],
   "source": [
    "gainers_profile_earnings = quote_summary_earnings(\"data/gainers_profile_earnings.csv\", \"gainers\")"
   ]
  },
  {
   "cell_type": "code",
   "execution_count": 138,
   "metadata": {},
   "outputs": [],
   "source": [
    "losers_profile_earnings = quote_summary_earnings(\"data/losers_profile_earnings.csv\", \"losers\")"
   ]
  },
  {
   "cell_type": "code",
   "execution_count": 146,
   "metadata": {},
   "outputs": [],
   "source": [
    "actives_profile_earnings = quote_summary_earnings(\"data/actives_profile_earnings.csv\", \"mostactives\")"
   ]
  },
  {
   "cell_type": "code",
   "execution_count": null,
   "metadata": {},
   "outputs": [],
   "source": []
  },
  {
   "cell_type": "markdown",
   "metadata": {},
   "source": [
    "#### Extract Historical data of 10 currency pairs"
   ]
  },
  {
   "cell_type": "code",
   "execution_count": 222,
   "metadata": {},
   "outputs": [],
   "source": [
    "def get_currencies(path, interval, rang, currencies):\n",
    "    \"\"\"\n",
    "        Extract records using endpoint \"market/get-spark\"\n",
    "        Get 1min - 5day, 5min - 1mo, 1day - 6mo and 1wk - 1yr interval range of each pair\n",
    "        Extract according to interval. Combine later\n",
    "        The currencies symbol include: \n",
    "        GBPAUD=X,GBPUSD=X,GBPEUR=X,GBPJPY=X,GBPCAD=X,EURJPY=X,EURGBP,EURUSD=X,AUDUSD=X,NZDUSD=X \n",
    "   \"\"\" \n",
    "    url = \"https://yh-finance.p.rapidapi.com/market/get-spark\"\n",
    "\n",
    "    querystring = {\"symbols\": (\",\").join(currencies), \"interval\":interval, \"range\": rang}\n",
    "\n",
    "    headers = {\n",
    "    \t\"X-RapidAPI-Key\": \"5a17bbabd5msh389ace935947661p14c081jsn9564d1759442\",\n",
    "    \t\"X-RapidAPI-Host\": \"yh-finance.p.rapidapi.com\"\n",
    "    }\n",
    "\n",
    "    response = requests.get(url, headers=headers, params=querystring).json()\n",
    "    data = []\n",
    "    cols = [\"symbol\", \"timestamp\", \"close\", \"endTime\", \"startTime\", \"chartPrevClose\", \"interval\", \"range\"]\n",
    "    for pair in response:\n",
    "        for timeDur in range(len(response[pair][\"timestamp\"])):\n",
    "            currency_data = {\n",
    "                \"symbol\": pair,\n",
    "                \"timestamp\": response[pair][\"timestamp\"][timeDur],\n",
    "                \"close\": response[pair][\"close\"][timeDur],\n",
    "                \"endTime\": response[pair][\"end\"],\n",
    "                \"startTime\": response[pair][\"start\"],\n",
    "                \"chartPrevClose\": response[pair][\"chartPreviousClose\"],\n",
    "                \"interval\": interval,\n",
    "                \"range\": rang\n",
    "            }\n",
    "            \n",
    "            data.append(currency_data)\n",
    "    with open(path, 'w') as csvfile:\n",
    "        writer = csv.DictWriter(csvfile, fieldnames=cols)\n",
    "        writer.writeheader()\n",
    "        writer.writerows(data)     "
   ]
  },
  {
   "cell_type": "code",
   "execution_count": 223,
   "metadata": {},
   "outputs": [],
   "source": [
    "currencies = [\"GBPAUD=X\",\"GBPUSD=X\",\"GBPEUR=X\",\"GBPJPY=X\",\"GBPCAD=X\",\"EURJPY=X\",\"EURGBP=X\",\"EURUSD=X\",\"AUDUSD=X\",\"NZDUSD=X\"]"
   ]
  },
  {
   "cell_type": "code",
   "execution_count": 224,
   "metadata": {},
   "outputs": [],
   "source": [
    "interRang1m5d = get_currencies(\"data/interRang1m5d.csv\", \"1m\", \"5d\", currencies)"
   ]
  },
  {
   "cell_type": "code",
   "execution_count": 225,
   "metadata": {},
   "outputs": [],
   "source": [
    "interRang5m1mo = get_currencies(\"data/interRang5m1mo.csv\", \"5m\", \"1mo\", currencies)"
   ]
  },
  {
   "cell_type": "code",
   "execution_count": 226,
   "metadata": {},
   "outputs": [],
   "source": [
    "interRang1d6mo = get_currencies(\"data/interRang1d6mo.csv\", \"1d\", \"6mo\", currencies)"
   ]
  },
  {
   "cell_type": "code",
   "execution_count": 227,
   "metadata": {},
   "outputs": [],
   "source": [
    "interRang1wk1y = get_currencies(\"data/interRang1wk1y.csv\", \"1wk\", \"1y\", currencies)"
   ]
  },
  {
   "cell_type": "code",
   "execution_count": null,
   "metadata": {},
   "outputs": [],
   "source": []
  },
  {
   "cell_type": "markdown",
   "metadata": {},
   "source": [
    "## Outline of Data Cleaning Process\n",
    "\n",
    "---\n",
    "\n",
    "  The collected data will here be cleaned and processed\n",
    "  \n",
    "  "
   ]
  },
  {
   "cell_type": "code",
   "execution_count": null,
   "metadata": {},
   "outputs": [],
   "source": []
  },
  {
   "cell_type": "code",
   "execution_count": null,
   "metadata": {},
   "outputs": [],
   "source": []
  },
  {
   "cell_type": "code",
   "execution_count": null,
   "metadata": {},
   "outputs": [],
   "source": []
  },
  {
   "cell_type": "code",
   "execution_count": null,
   "metadata": {},
   "outputs": [],
   "source": []
  },
  {
   "cell_type": "code",
   "execution_count": null,
   "metadata": {},
   "outputs": [],
   "source": []
  },
  {
   "cell_type": "markdown",
   "metadata": {},
   "source": [
    "## Data Wrangling and Transformation"
   ]
  },
  {
   "cell_type": "code",
   "execution_count": null,
   "metadata": {},
   "outputs": [],
   "source": []
  },
  {
   "cell_type": "code",
   "execution_count": null,
   "metadata": {},
   "outputs": [],
   "source": []
  },
  {
   "cell_type": "code",
   "execution_count": null,
   "metadata": {},
   "outputs": [],
   "source": []
  },
  {
   "cell_type": "markdown",
   "metadata": {},
   "source": [
    "## Data Storage and Loading"
   ]
  },
  {
   "cell_type": "code",
   "execution_count": null,
   "metadata": {},
   "outputs": [],
   "source": []
  },
  {
   "cell_type": "code",
   "execution_count": null,
   "metadata": {},
   "outputs": [],
   "source": []
  },
  {
   "cell_type": "code",
   "execution_count": null,
   "metadata": {},
   "outputs": [],
   "source": []
  },
  {
   "cell_type": "code",
   "execution_count": null,
   "metadata": {},
   "outputs": [],
   "source": []
  }
 ],
 "metadata": {
  "kernelspec": {
   "display_name": "Python 3",
   "language": "python",
   "name": "python3"
  },
  "language_info": {
   "codemirror_mode": {
    "name": "ipython",
    "version": 3
   },
   "file_extension": ".py",
   "mimetype": "text/x-python",
   "name": "python",
   "nbconvert_exporter": "python",
   "pygments_lexer": "ipython3",
   "version": "3.6.10"
  }
 },
 "nbformat": 4,
 "nbformat_minor": 2
}
